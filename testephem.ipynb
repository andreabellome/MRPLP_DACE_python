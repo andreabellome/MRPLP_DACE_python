{
 "cells": [
  {
   "cell_type": "code",
   "execution_count": 1,
   "metadata": {},
   "outputs": [
    {
     "name": "stdout",
     "output_type": "stream",
     "text": [
      "GTOC9 database loaded.\n"
     ]
    }
   ],
   "source": [
    "from functions.satellites_ephemeris import SatelliteEphemeris\n",
    "\n",
    "ephemeris = SatelliteEphemeris()\n",
    "ephemeris.load_data()\n",
    "debris_data = ephemeris.get_debris()"
   ]
  },
  {
   "cell_type": "code",
   "execution_count": 2,
   "metadata": {},
   "outputs": [
    {
     "data": {
      "text/plain": [
       "array(['0', 21947.64963766505, 7165739.682446478, 0.0014872294030037296,\n",
       "       1.7084949743764815, 5.42514944776991, 0.5189646619147478,\n",
       "       3.220888356932889], dtype=object)"
      ]
     },
     "execution_count": 2,
     "metadata": {},
     "output_type": "execute_result"
    }
   ],
   "source": [
    "(debris_data[0])"
   ]
  },
  {
   "cell_type": "code",
   "execution_count": 3,
   "metadata": {},
   "outputs": [
    {
     "name": "stdout",
     "output_type": "stream",
     "text": [
      "Custom database loaded.\n"
     ]
    }
   ],
   "source": [
    "from functions.satellites_ephemeris import SatelliteEphemeris\n",
    "\n",
    "filename = 'functions/ephemerides/OneWeb_Sat_Data.xlsx'\n",
    "ephemeris = SatelliteEphemeris(filename=filename)\n",
    "ephemeris.load_data()\n",
    "debris_data = ephemeris.get_debris()"
   ]
  },
  {
   "cell_type": "code",
   "execution_count": 4,
   "metadata": {},
   "outputs": [
    {
     "data": {
      "text/plain": [
       "array(['0', 8487.725509259384, 7575901.584828013, 0.0001574,\n",
       "       1.534114741905732, 1.7968600981594622, 2.2326373964559103,\n",
       "       6.186628456971504], dtype=object)"
      ]
     },
     "execution_count": 4,
     "metadata": {},
     "output_type": "execute_result"
    }
   ],
   "source": [
    "(debris_data[0])\n",
    "debris_data[0][0] = '0'\n",
    "\n",
    "debris_data[0]"
   ]
  },
  {
   "cell_type": "code",
   "execution_count": 5,
   "metadata": {},
   "outputs": [],
   "source": [
    "t1 = 8487.72551337956\n",
    "id1 = '0'\n",
    "\n",
    "t2 = 8492.72551337956\n",
    "id2 = '1'\n",
    "\n",
    "cart1 = ephemeris.eph_satellites( t1 * 86400, id1 )\n",
    "cart2 = ephemeris.eph_satellites( t2 * 86400, id2 )"
   ]
  },
  {
   "cell_type": "code",
   "execution_count": 6,
   "metadata": {},
   "outputs": [
    {
     "name": "stdout",
     "output_type": "stream",
     "text": [
      "[ 6.81353729e+05 -4.00880032e+06  6.39074168e+06  1.51179714e+03\n",
      " -5.93701399e+03 -3.88549629e+03]\n",
      "[-2.15442729e+05  2.29773839e+06 -7.21763221e+06 -1.50960070e+03\n",
      "  6.74558714e+03  2.19283395e+03]\n"
     ]
    }
   ],
   "source": [
    "print(cart1)\n",
    "print(cart2)"
   ]
  },
  {
   "cell_type": "code",
   "execution_count": 7,
   "metadata": {},
   "outputs": [
    {
     "data": {
      "text/plain": [
       "-5937.0139860381705"
      ]
     },
     "execution_count": 7,
     "metadata": {},
     "output_type": "execute_result"
    }
   ],
   "source": [
    "cart1[4]"
   ]
  },
  {
   "cell_type": "code",
   "execution_count": 10,
   "metadata": {},
   "outputs": [
    {
     "name": "stdout",
     "output_type": "stream",
     "text": [
      "-------------------------------------------------------\n",
      "                 OUTPUT SUMMARY\n",
      "-------------------------------------------------------\n",
      "Order of the expansion  : 7\n",
      "Success                 : True\n",
      "Elapsed time            : 0.29251861572265625 seconds\n",
      "Final pos. error (norm) : 2.1105781332667353e-06 m\n",
      "-------------------------------------------------------\n",
      "Delta_v1                : 22.71146522768374 m/s\n",
      "Delta_v2                : 21.014510169245128 m/s\n",
      "Delta_vtot              : 43.72597539692887 m/s\n",
      "-------------------------------------------------------\n"
     ]
    }
   ],
   "source": [
    "from functions.MRPLP_J2_analytic import MultiRevolutionPerturbedLambertSolver\n",
    "from functions.expansion_perturbed_lambert import ExpansionPerturbedLambert\n",
    "import numpy as np\n",
    "\n",
    "rr1=cart1[0:3]\n",
    "vv1=cart1[3:]\n",
    "rr2=cart2[0:3]\n",
    "vv2=cart2[3:]\n",
    "vv1g = vv1\n",
    "\n",
    "tof = ( t2 - t1 ) * 86400\n",
    "\n",
    "mu = 398600.4418e9  # [m^3/s^2]\n",
    "Re = 6378137  # [m]\n",
    "J2 = 1.08262668e-3\n",
    "\n",
    "MRPLPsolver = MultiRevolutionPerturbedLambertSolver() # MRPLP solver\n",
    "EXPpertLamb = ExpansionPerturbedLambert() # Expansion of perturbed Lambert\n",
    "\n",
    "# set the parameters for the MRPLP solver\n",
    "order = 7\n",
    "parameters = MRPLPsolver.mrplp_J2_analytic_parameters(rr1, rr2, tof, vv1g, mu, Re, J2,\n",
    "                                            order, tol=1.0e-6, cont=0.0, dcontMin=0.1, scl=1.0e-3, itermax=200 )\n",
    "\n",
    "# solve the MRPLP\n",
    "output = MRPLPsolver.mrplp_J2_analytic(parameters)\n",
    "\n",
    "# extract the solution\n",
    "vv1Sol = output.vv1Sol\n",
    "vv2Sol = output.vv2Sol\n",
    "rr2DA = output.rr2DA\n",
    "\n",
    "# compute the DV\n",
    "dvv1 = vv1Sol - vv1\n",
    "dvv2 = vv2 - vv2Sol\n",
    "dv1 = np.linalg.norm( dvv1 )\n",
    "dv2 = np.linalg.norm( dvv2 )\n",
    "dvtot = dv1 + dv2\n",
    "\n",
    "# print the output\n",
    "print(f\"-------------------------------------------------------\")\n",
    "print(f\"                 OUTPUT SUMMARY\")\n",
    "print(f\"-------------------------------------------------------\")\n",
    "print(f\"Order of the expansion  : {order}\")\n",
    "print(f\"Success                 : {output.success}\")\n",
    "print(f\"Elapsed time            : {output.elapsed_time} seconds\")\n",
    "print(f\"Final pos. error (norm) : {np.linalg.norm( output.rr2DA - rr2 )} m\")\n",
    "print(f\"-------------------------------------------------------\")\n",
    "print(f\"Delta_v1                : {dv1} m/s\")\n",
    "print(f\"Delta_v2                : {dv2} m/s\")\n",
    "print(f\"Delta_vtot              : {dvtot} m/s\")\n",
    "print(f\"-------------------------------------------------------\")\n",
    "\n",
    "# propagate and obtain the STM\n",
    "states, vecttof, STM = (\n",
    "    MultiRevolutionPerturbedLambertSolver.propagatePerturbedKeplerSTM(\n",
    "        rr1, vv1Sol, tof, 1, parameters\n",
    "    )\n",
    ")"
   ]
  },
  {
   "cell_type": "code",
   "execution_count": 11,
   "metadata": {},
   "outputs": [
    {
     "data": {
      "text/plain": [
       "1.1520571430794717e-07"
      ]
     },
     "execution_count": 11,
     "metadata": {},
     "output_type": "execute_result"
    }
   ],
   "source": [
    "np.linalg.norm(states[-1,0:3] - cart2[0:3])"
   ]
  },
  {
   "cell_type": "code",
   "execution_count": 29,
   "metadata": {},
   "outputs": [
    {
     "data": {
      "text/plain": [
       "1.843308755664876"
      ]
     },
     "execution_count": 29,
     "metadata": {},
     "output_type": "execute_result"
    }
   ],
   "source": [
    "from functions.analytic_approx_dv_j2 import AnalyticDVApproxJ2\n",
    "import numpy as np\n",
    "\n",
    "mue = 398600.4418e9  # [m^3/s^2]\n",
    "Re = 6378137  # [m]\n",
    "J2 = 1.08262668e-3\n",
    "\n",
    "# cart1 = np.array( [ 680792.001246792    ,     -4006594.01935798     ,     6392185.01857288     ,     1512.02932728527      ,   -5938.37973480106, -3883.31816604769 ] )\n",
    "# cart2 = np.array([-214841.275555147    ,      2295050.57239102    ,     -7218505.37654683    ,     -1509.67931990184    ,       6746.4253028261, 2190.19935704532 ])\n",
    "\n",
    "# Initialize parameters\n",
    "parameters = AnalyticDVApproxJ2.approx_DV_parameters(\n",
    "    rr1=cart1[0:3],\n",
    "    vv1=cart1[3:],\n",
    "    rr2=cart2[0:3],\n",
    "    vv2=cart2[3:],\n",
    "    t1=t1,\n",
    "    t2=t2,\n",
    "    mu=mue,\n",
    "    rE=Re,\n",
    "    J2=J2\n",
    ")\n",
    "\n",
    "delta_v = AnalyticDVApproxJ2.approx_DV(parameters)\n",
    "delta_v"
   ]
  },
  {
   "cell_type": "code",
   "execution_count": null,
   "metadata": {},
   "outputs": [],
   "source": [
    "from functions.analytic_approx_dv_j2 import *\n",
    "\n",
    "\n",
    "\n",
    "param = approx_DV_parameters()"
   ]
  }
 ],
 "metadata": {
  "kernelspec": {
   "display_name": "Python 3",
   "language": "python",
   "name": "python3"
  },
  "language_info": {
   "codemirror_mode": {
    "name": "ipython",
    "version": 3
   },
   "file_extension": ".py",
   "mimetype": "text/x-python",
   "name": "python",
   "nbconvert_exporter": "python",
   "pygments_lexer": "ipython3",
   "version": "3.10.11"
  }
 },
 "nbformat": 4,
 "nbformat_minor": 2
}
