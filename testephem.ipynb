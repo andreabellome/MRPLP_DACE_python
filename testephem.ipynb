{
 "cells": [
  {
   "cell_type": "code",
   "execution_count": 1,
   "metadata": {},
   "outputs": [
    {
     "name": "stdout",
     "output_type": "stream",
     "text": [
      "Custom database loaded: functions/ephemerides/tles50.json\n",
      "Number of objects in DB: 50 \n",
      "\n"
     ]
    }
   ],
   "source": [
    "# from functions.satellites_ephemeris import SatelliteEphemeris\n",
    "\n",
    "# filename = \"functions/ephemerides/tles50.json\"\n",
    "# ephemeris = SatelliteEphemeris(filename)\n",
    "# ephemeris.load_data()\n",
    "# debris_data = ephemeris.get_debris()\n",
    "\n",
    "# print(f\"Number of objects in DB: {len(debris_data)} \\n\")"
   ]
  },
  {
   "cell_type": "code",
   "execution_count": 1,
   "metadata": {},
   "outputs": [
    {
     "name": "stdout",
     "output_type": "stream",
     "text": [
      "Custom database loaded: functions/ephemerides/OneWeb_Sat_Data.xlsx\n"
     ]
    }
   ],
   "source": [
    "from functions.satellites_ephemeris import SatelliteEphemeris\n",
    "\n",
    "filename = 'functions/ephemerides/OneWeb_Sat_Data.xlsx'\n",
    "ephemeris = SatelliteEphemeris(filename=filename)\n",
    "ephemeris.load_data()\n",
    "debris_data = ephemeris.get_debris()"
   ]
  },
  {
   "cell_type": "code",
   "execution_count": 2,
   "metadata": {},
   "outputs": [
    {
     "name": "stdout",
     "output_type": "stream",
     "text": [
      "-------------------------------------------------------\n",
      "                 OUTPUT SUMMARY\n",
      "-------------------------------------------------------\n",
      "Order of the expansion  : 7\n",
      "Success                 : True\n",
      "Elapsed time            : 0.4691321849822998 seconds\n",
      "Final pos. error (norm) : 1.7310617483236337e-06 m\n",
      "-------------------------------------------------------\n",
      "Delta_v1                : 210.99851623157832 m/s\n",
      "Delta_v2                : 234.02895677271098 m/s\n",
      "Delta_vtot              : 445.0274730042893 m/s\n",
      "-------------------------------------------------------\n"
     ]
    }
   ],
   "source": [
    "from functions.MRPLP_J2_analytic import MultiRevolutionPerturbedLambertSolver\n",
    "import numpy as np\n",
    "\n",
    "t1 = 23902.49\n",
    "id1 = '45'\n",
    "\n",
    "t2 = 23919.56-0.5\n",
    "id2 = '44'\n",
    "\n",
    "cart1 = ephemeris.eph_satellites( t1 * 86400, id1 )\n",
    "cart2 = ephemeris.eph_satellites( t2 * 86400, id2 )\n",
    "\n",
    "tof = ( t2 - t1 ) * 86400\n",
    "\n",
    "mu = 398600.4418e9  # [m^3/s^2]\n",
    "Re = 6378137  # [m]\n",
    "J2 = 1.08262668e-3\n",
    "\n",
    "MRPLPsolver = MultiRevolutionPerturbedLambertSolver() # MRPLP solver\n",
    "\n",
    "# set the parameters for the MRPLP solver\n",
    "order = 7\n",
    "parameters = MRPLPsolver.mrplp_J2_analytic_parameters(cart1[0:3], cart2[0:3], tof, cart1[3:], mu, Re, J2,\n",
    "                                            order, tol=1.0e-6, cont=0.0, dcontMin=0.1, scl=1.0e-3, itermax=200 )\n",
    "\n",
    "# solve the MRPLP\n",
    "output = MRPLPsolver.mrplp_J2_analytic(parameters)\n",
    "\n",
    "# compute the DV\n",
    "dvv1 = output.vv1Sol - cart1[3:]\n",
    "dvv2 = cart2[3:] - output.vv2Sol\n",
    "dv1 = np.linalg.norm( dvv1 )\n",
    "dv2 = np.linalg.norm( dvv2 )\n",
    "dvtot = dv1 + dv2\n",
    "\n",
    "# print the output\n",
    "print(f\"-------------------------------------------------------\")\n",
    "print(f\"                 OUTPUT SUMMARY\")\n",
    "print(f\"-------------------------------------------------------\")\n",
    "print(f\"Order of the expansion  : {order}\")\n",
    "print(f\"Success                 : {output.success}\")\n",
    "print(f\"Elapsed time            : {output.elapsed_time} seconds\")\n",
    "print(f\"Final pos. error (norm) : {np.linalg.norm( output.rr2DA - cart2[0:3] )} m\")\n",
    "print(f\"-------------------------------------------------------\")\n",
    "print(f\"Delta_v1                : {dv1} m/s\")\n",
    "print(f\"Delta_v2                : {dv2} m/s\")\n",
    "print(f\"Delta_vtot              : {dvtot} m/s\")\n",
    "print(f\"-------------------------------------------------------\")\n"
   ]
  },
  {
   "cell_type": "code",
   "execution_count": 10,
   "metadata": {},
   "outputs": [
    {
     "ename": "KeyboardInterrupt",
     "evalue": "",
     "output_type": "error",
     "traceback": [
      "\u001b[1;31m---------------------------------------------------------------------------\u001b[0m",
      "\u001b[1;31mKeyboardInterrupt\u001b[0m                         Traceback (most recent call last)",
      "Cell \u001b[1;32mIn[10], line 56\u001b[0m\n\u001b[0;32m     51\u001b[0m parameters \u001b[38;5;241m=\u001b[39m MRPLPsolver\u001b[38;5;241m.\u001b[39mmrplp_J2_analytic_parameters(cart1[\u001b[38;5;241m0\u001b[39m:\u001b[38;5;241m3\u001b[39m], cart2[\u001b[38;5;241m0\u001b[39m:\u001b[38;5;241m3\u001b[39m], tof_secs, vv1g, mu, Re, J2,\n\u001b[0;32m     52\u001b[0m                                                     order, tol\u001b[38;5;241m=\u001b[39m\u001b[38;5;241m1.0e-6\u001b[39m, cont\u001b[38;5;241m=\u001b[39m\u001b[38;5;241m0.0\u001b[39m, dcontMin\u001b[38;5;241m=\u001b[39m\u001b[38;5;241m0.1\u001b[39m, \n\u001b[0;32m     53\u001b[0m                                                     scl\u001b[38;5;241m=\u001b[39m\u001b[38;5;241m1.0e-3\u001b[39m, itermax\u001b[38;5;241m=\u001b[39m\u001b[38;5;241m150\u001b[39m )\n\u001b[0;32m     55\u001b[0m \u001b[38;5;66;03m# solve the MRPLP\u001b[39;00m\n\u001b[1;32m---> 56\u001b[0m output \u001b[38;5;241m=\u001b[39m \u001b[43mMRPLPsolver\u001b[49m\u001b[38;5;241;43m.\u001b[39;49m\u001b[43mmrplp_J2_analytic\u001b[49m\u001b[43m(\u001b[49m\u001b[43mparameters\u001b[49m\u001b[43m)\u001b[49m\n\u001b[0;32m     58\u001b[0m \u001b[38;5;66;03m# compute the DV\u001b[39;00m\n\u001b[0;32m     59\u001b[0m dvv1 \u001b[38;5;241m=\u001b[39m output\u001b[38;5;241m.\u001b[39mvv1Sol \u001b[38;5;241m-\u001b[39m cart1[\u001b[38;5;241m3\u001b[39m:]\n",
      "File \u001b[1;32mc:\\Users\\andre\\Documents\\GitHub\\MRPLP_DACE_python\\functions\\MRPLP_J2_analytic.py:891\u001b[0m, in \u001b[0;36mMultiRevolutionPerturbedLambertSolver.mrplp_J2_analytic\u001b[1;34m(params)\u001b[0m\n\u001b[0;32m    887\u001b[0m dvv1Guess \u001b[38;5;241m=\u001b[39m np\u001b[38;5;241m.\u001b[39marray([\u001b[38;5;241m0\u001b[39m, \u001b[38;5;241m0\u001b[39m, \u001b[38;5;241m0\u001b[39m])\n\u001b[0;32m    888\u001b[0m warnings\u001b[38;5;241m.\u001b[39mfilterwarnings(\n\u001b[0;32m    889\u001b[0m     \u001b[38;5;124m\"\u001b[39m\u001b[38;5;124mignore\u001b[39m\u001b[38;5;124m\"\u001b[39m, category\u001b[38;5;241m=\u001b[39m\u001b[38;5;167;01mRuntimeWarning\u001b[39;00m\n\u001b[0;32m    890\u001b[0m )  \u001b[38;5;66;03m# suppress the warnings about the run time\u001b[39;00m\n\u001b[1;32m--> 891\u001b[0m result \u001b[38;5;241m=\u001b[39m \u001b[43mfsolve\u001b[49m\u001b[43m(\u001b[49m\n\u001b[0;32m    892\u001b[0m \u001b[43m    \u001b[49m\u001b[43mMultiRevolutionPerturbedLambertSolver\u001b[49m\u001b[38;5;241;43m.\u001b[39;49m\u001b[43mfsolveFromMap\u001b[49m\u001b[43m,\u001b[49m\n\u001b[0;32m    893\u001b[0m \u001b[43m    \u001b[49m\u001b[43mdvv1Guess\u001b[49m\u001b[43m,\u001b[49m\n\u001b[0;32m    894\u001b[0m \u001b[43m    \u001b[49m\u001b[43margs\u001b[49m\u001b[38;5;241;43m=\u001b[39;49m\u001b[43m(\u001b[49m\u001b[43mmapD\u001b[49m\u001b[43m,\u001b[49m\u001b[43m \u001b[49m\u001b[43mdcont\u001b[49m\u001b[43m)\u001b[49m\u001b[43m,\u001b[49m\n\u001b[0;32m    895\u001b[0m \u001b[43m\u001b[49m\u001b[43m)\u001b[49m\n\u001b[0;32m    897\u001b[0m \u001b[38;5;66;03m# update the params\u001b[39;00m\n\u001b[0;32m    898\u001b[0m params\u001b[38;5;241m.\u001b[39mvv1g \u001b[38;5;241m=\u001b[39m params\u001b[38;5;241m.\u001b[39mvv1g \u001b[38;5;241m+\u001b[39m params\u001b[38;5;241m.\u001b[39mscl \u001b[38;5;241m*\u001b[39m result  \u001b[38;5;66;03m# this is the solution\u001b[39;00m\n",
      "File \u001b[1;32mc:\\Users\\andre\\AppData\\Local\\Programs\\Python\\Python310\\lib\\site-packages\\scipy\\optimize\\_minpack_py.py:166\u001b[0m, in \u001b[0;36mfsolve\u001b[1;34m(func, x0, args, fprime, full_output, col_deriv, xtol, maxfev, band, epsfcn, factor, diag)\u001b[0m\n\u001b[0;32m     54\u001b[0m \u001b[38;5;250m\u001b[39m\u001b[38;5;124;03m\"\"\"\u001b[39;00m\n\u001b[0;32m     55\u001b[0m \u001b[38;5;124;03mFind the roots of a function.\u001b[39;00m\n\u001b[0;32m     56\u001b[0m \n\u001b[1;32m   (...)\u001b[0m\n\u001b[0;32m    156\u001b[0m \n\u001b[0;32m    157\u001b[0m \u001b[38;5;124;03m\"\"\"\u001b[39;00m\n\u001b[0;32m    158\u001b[0m options \u001b[38;5;241m=\u001b[39m {\u001b[38;5;124m'\u001b[39m\u001b[38;5;124mcol_deriv\u001b[39m\u001b[38;5;124m'\u001b[39m: col_deriv,\n\u001b[0;32m    159\u001b[0m            \u001b[38;5;124m'\u001b[39m\u001b[38;5;124mxtol\u001b[39m\u001b[38;5;124m'\u001b[39m: xtol,\n\u001b[0;32m    160\u001b[0m            \u001b[38;5;124m'\u001b[39m\u001b[38;5;124mmaxfev\u001b[39m\u001b[38;5;124m'\u001b[39m: maxfev,\n\u001b[1;32m   (...)\u001b[0m\n\u001b[0;32m    163\u001b[0m            \u001b[38;5;124m'\u001b[39m\u001b[38;5;124mfactor\u001b[39m\u001b[38;5;124m'\u001b[39m: factor,\n\u001b[0;32m    164\u001b[0m            \u001b[38;5;124m'\u001b[39m\u001b[38;5;124mdiag\u001b[39m\u001b[38;5;124m'\u001b[39m: diag}\n\u001b[1;32m--> 166\u001b[0m res \u001b[38;5;241m=\u001b[39m _root_hybr(func, x0, args, jac\u001b[38;5;241m=\u001b[39mfprime, \u001b[38;5;241m*\u001b[39m\u001b[38;5;241m*\u001b[39moptions)\n\u001b[0;32m    167\u001b[0m \u001b[38;5;28;01mif\u001b[39;00m full_output:\n\u001b[0;32m    168\u001b[0m     x \u001b[38;5;241m=\u001b[39m res[\u001b[38;5;124m'\u001b[39m\u001b[38;5;124mx\u001b[39m\u001b[38;5;124m'\u001b[39m]\n",
      "File \u001b[1;32mc:\\Users\\andre\\AppData\\Local\\Programs\\Python\\Python310\\lib\\site-packages\\scipy\\optimize\\_minpack_py.py:243\u001b[0m, in \u001b[0;36m_root_hybr\u001b[1;34m(func, x0, args, jac, col_deriv, xtol, maxfev, band, eps, factor, diag, **unknown_options)\u001b[0m\n\u001b[0;32m    241\u001b[0m     \u001b[38;5;28;01mif\u001b[39;00m maxfev \u001b[38;5;241m==\u001b[39m \u001b[38;5;241m0\u001b[39m:\n\u001b[0;32m    242\u001b[0m         maxfev \u001b[38;5;241m=\u001b[39m \u001b[38;5;241m200\u001b[39m \u001b[38;5;241m*\u001b[39m (n \u001b[38;5;241m+\u001b[39m \u001b[38;5;241m1\u001b[39m)\n\u001b[1;32m--> 243\u001b[0m     retval \u001b[38;5;241m=\u001b[39m \u001b[43m_minpack\u001b[49m\u001b[38;5;241;43m.\u001b[39;49m\u001b[43m_hybrd\u001b[49m\u001b[43m(\u001b[49m\u001b[43mfunc\u001b[49m\u001b[43m,\u001b[49m\u001b[43m \u001b[49m\u001b[43mx0\u001b[49m\u001b[43m,\u001b[49m\u001b[43m \u001b[49m\u001b[43margs\u001b[49m\u001b[43m,\u001b[49m\u001b[43m \u001b[49m\u001b[38;5;241;43m1\u001b[39;49m\u001b[43m,\u001b[49m\u001b[43m \u001b[49m\u001b[43mxtol\u001b[49m\u001b[43m,\u001b[49m\u001b[43m \u001b[49m\u001b[43mmaxfev\u001b[49m\u001b[43m,\u001b[49m\n\u001b[0;32m    244\u001b[0m \u001b[43m                             \u001b[49m\u001b[43mml\u001b[49m\u001b[43m,\u001b[49m\u001b[43m \u001b[49m\u001b[43mmu\u001b[49m\u001b[43m,\u001b[49m\u001b[43m \u001b[49m\u001b[43mepsfcn\u001b[49m\u001b[43m,\u001b[49m\u001b[43m \u001b[49m\u001b[43mfactor\u001b[49m\u001b[43m,\u001b[49m\u001b[43m \u001b[49m\u001b[43mdiag\u001b[49m\u001b[43m)\u001b[49m\n\u001b[0;32m    245\u001b[0m \u001b[38;5;28;01melse\u001b[39;00m:\n\u001b[0;32m    246\u001b[0m     _check_func(\u001b[38;5;124m'\u001b[39m\u001b[38;5;124mfsolve\u001b[39m\u001b[38;5;124m'\u001b[39m, \u001b[38;5;124m'\u001b[39m\u001b[38;5;124mfprime\u001b[39m\u001b[38;5;124m'\u001b[39m, Dfun, x0, args, n, (n, n))\n",
      "File \u001b[1;32mc:\\Users\\andre\\Documents\\GitHub\\MRPLP_DACE_python\\functions\\MRPLP_J2_analytic.py:820\u001b[0m, in \u001b[0;36mMultiRevolutionPerturbedLambertSolver.fsolveFromMap\u001b[1;34m(dvv1Guess, mapD, dcont)\u001b[0m\n\u001b[0;32m    818\u001b[0m \u001b[38;5;129m@staticmethod\u001b[39m\n\u001b[0;32m    819\u001b[0m \u001b[38;5;28;01mdef\u001b[39;00m \u001b[38;5;21mfsolveFromMap\u001b[39m(dvv1Guess: np\u001b[38;5;241m.\u001b[39marray, mapD: array, dcont: \u001b[38;5;28mfloat\u001b[39m):\n\u001b[1;32m--> 820\u001b[0m     res \u001b[38;5;241m=\u001b[39m \u001b[43mmapD\u001b[49m\u001b[38;5;241;43m.\u001b[39;49m\u001b[43meval\u001b[49m\u001b[43m(\u001b[49m\u001b[43mnp\u001b[49m\u001b[38;5;241;43m.\u001b[39;49m\u001b[43mappend\u001b[49m\u001b[43m(\u001b[49m\u001b[43mdvv1Guess\u001b[49m\u001b[43m,\u001b[49m\u001b[43m \u001b[49m\u001b[43mdcont\u001b[49m\u001b[43m)\u001b[49m\u001b[43m)\u001b[49m\n\u001b[0;32m    821\u001b[0m     res \u001b[38;5;241m=\u001b[39m res[\u001b[38;5;241m0\u001b[39m:\u001b[38;5;241m3\u001b[39m]\n\u001b[0;32m    822\u001b[0m     \u001b[38;5;28;01mreturn\u001b[39;00m [res[\u001b[38;5;241m0\u001b[39m], res[\u001b[38;5;241m1\u001b[39m], res[\u001b[38;5;241m2\u001b[39m]]\n",
      "File \u001b[1;32mc:\\Users\\andre\\AppData\\Local\\Programs\\Python\\Python310\\lib\\site-packages\\daceypy\\_array.py:881\u001b[0m, in \u001b[0;36marray.eval\u001b[1;34m(self, args)\u001b[0m\n\u001b[0;32m    876\u001b[0m \u001b[38;5;28;01mdef\u001b[39;00m \u001b[38;5;21meval\u001b[39m(\n\u001b[0;32m    877\u001b[0m     \u001b[38;5;28mself\u001b[39m,\n\u001b[0;32m    878\u001b[0m     args: Union[\n\u001b[0;32m    879\u001b[0m         List[\u001b[38;5;28mfloat\u001b[39m], List[daceypy\u001b[38;5;241m.\u001b[39mDA], NDArray[np\u001b[38;5;241m.\u001b[39mdouble], array],\n\u001b[0;32m    880\u001b[0m ) \u001b[38;5;241m-\u001b[39m\u001b[38;5;241m>\u001b[39m Union[List[\u001b[38;5;28mfloat\u001b[39m], List[daceypy\u001b[38;5;241m.\u001b[39mDA], NDArray[np\u001b[38;5;241m.\u001b[39mdouble], array]:\n\u001b[1;32m--> 881\u001b[0m     \u001b[38;5;28;01mreturn\u001b[39;00m \u001b[38;5;28;43mself\u001b[39;49m\u001b[38;5;241;43m.\u001b[39;49m\u001b[43mcompile\u001b[49m\u001b[43m(\u001b[49m\u001b[43m)\u001b[49m\u001b[38;5;241m.\u001b[39meval(args)\n",
      "File \u001b[1;32mc:\\Users\\andre\\AppData\\Local\\Programs\\Python\\Python310\\lib\\site-packages\\daceypy\\_array.py:798\u001b[0m, in \u001b[0;36marray.compile\u001b[1;34m(self)\u001b[0m\n\u001b[0;32m    788\u001b[0m \u001b[38;5;28;01mdef\u001b[39;00m \u001b[38;5;21mcompile\u001b[39m(\u001b[38;5;28mself\u001b[39m) \u001b[38;5;241m-\u001b[39m\u001b[38;5;241m>\u001b[39m daceypy\u001b[38;5;241m.\u001b[39mcompiledDA:\n\u001b[0;32m    789\u001b[0m \u001b[38;5;250m    \u001b[39m\u001b[38;5;124;03m\"\"\"\u001b[39;00m\n\u001b[0;32m    790\u001b[0m \u001b[38;5;124;03m    Compile vector of polynomials and create a compiledDA object.\u001b[39;00m\n\u001b[0;32m    791\u001b[0m \n\u001b[1;32m   (...)\u001b[0m\n\u001b[0;32m    796\u001b[0m \u001b[38;5;124;03m        `compiledDA AlgebraicVector<DA>::compile()`\u001b[39;00m\n\u001b[0;32m    797\u001b[0m \u001b[38;5;124;03m    \"\"\"\u001b[39;00m\n\u001b[1;32m--> 798\u001b[0m     \u001b[38;5;28;01mreturn\u001b[39;00m \u001b[43mdaceypy\u001b[49m\u001b[38;5;241;43m.\u001b[39;49m\u001b[43mcompiledDA\u001b[49m\u001b[43m(\u001b[49m\u001b[38;5;28;43mself\u001b[39;49m\u001b[43m)\u001b[49m\n",
      "File \u001b[1;32mc:\\Users\\andre\\AppData\\Local\\Programs\\Python\\Python310\\lib\\site-packages\\daceypy\\_compiledDA.py:71\u001b[0m, in \u001b[0;36mcompiledDA.__init__\u001b[1;34m(self, da)\u001b[0m\n\u001b[0;32m     69\u001b[0m da_array_t \u001b[38;5;241m=\u001b[39m POINTER(core\u001b[38;5;241m.\u001b[39mDACEDA) \u001b[38;5;241m*\u001b[39m dim\n\u001b[0;32m     70\u001b[0m da_array \u001b[38;5;241m=\u001b[39m da_array_t(\u001b[38;5;241m*\u001b[39m(pointer(da_elem\u001b[38;5;241m.\u001b[39mm_index) \u001b[38;5;28;01mfor\u001b[39;00m da_elem \u001b[38;5;129;01min\u001b[39;00m da))\n\u001b[1;32m---> 71\u001b[0m \u001b[43mcore\u001b[49m\u001b[38;5;241;43m.\u001b[39;49m\u001b[43mEvalTree\u001b[49m\u001b[43m(\u001b[49m\u001b[43mda_array\u001b[49m\u001b[43m,\u001b[49m\u001b[43m \u001b[49m\u001b[43mdim\u001b[49m\u001b[43m,\u001b[49m\u001b[43m \u001b[49m\u001b[43mc_ac\u001b[49m\u001b[43m,\u001b[49m\u001b[43m \u001b[49m\u001b[43mc_terms\u001b[49m\u001b[43m,\u001b[49m\u001b[43m \u001b[49m\u001b[43mc_vars\u001b[49m\u001b[43m,\u001b[49m\u001b[43m \u001b[49m\u001b[43mc_ord\u001b[49m\u001b[43m)\u001b[49m\n\u001b[0;32m     73\u001b[0m \u001b[38;5;28mself\u001b[39m\u001b[38;5;241m.\u001b[39mdim: \u001b[38;5;28mint\u001b[39m \u001b[38;5;241m=\u001b[39m dim\n\u001b[0;32m     74\u001b[0m \u001b[38;5;28mself\u001b[39m\u001b[38;5;241m.\u001b[39mac: Tuple[\u001b[38;5;28mfloat\u001b[39m] \u001b[38;5;241m=\u001b[39m \u001b[38;5;28mtuple\u001b[39m(c_ac)  \u001b[38;5;66;03m# type: ignore\u001b[39;00m\n",
      "File \u001b[1;32mc:\\Users\\andre\\AppData\\Local\\Programs\\Python\\Python310\\lib\\site-packages\\daceypy\\core.py:90\u001b[0m, in \u001b[0;36mcorefunction.<locals>.decorator.<locals>.with_errcheck\u001b[1;34m(*args)\u001b[0m\n\u001b[0;32m     89\u001b[0m \u001b[38;5;28;01mdef\u001b[39;00m \u001b[38;5;21mwith_errcheck\u001b[39m(\u001b[38;5;241m*\u001b[39margs):\n\u001b[1;32m---> 90\u001b[0m     res \u001b[38;5;241m=\u001b[39m \u001b[43mfunction\u001b[49m\u001b[43m(\u001b[49m\u001b[38;5;241;43m*\u001b[39;49m\u001b[43margs\u001b[49m\u001b[43m)\u001b[49m\n\u001b[0;32m     91\u001b[0m     \u001b[38;5;28;01mif\u001b[39;00m GetError():\n\u001b[0;32m     92\u001b[0m         \u001b[38;5;28;01mraise\u001b[39;00m _DACEException\u001b[38;5;241m.\u001b[39mDACEException\n",
      "\u001b[1;31mKeyboardInterrupt\u001b[0m: "
     ]
    }
   ],
   "source": [
    "from functions.analytic_approx_dv_j2 import AnalyticDVApproxJ2\n",
    "\n",
    "start = 8487.0\n",
    "end = start + 30\n",
    "step = 1.0\n",
    "t1_list = np.arange(start, end + step, step)\n",
    "\n",
    "id_start = [str(i) for i in range(1, len(debris_data))]\n",
    "id_tar = [str(i) for i in range(1, len(debris_data))]\n",
    "\n",
    "########## START: define the DV options ##########\n",
    "dv_tol_an = 1500\n",
    "dv_tol = 200\n",
    "########## END: define the DV options ##########\n",
    "\n",
    "########## START: define the TOF options ##########\n",
    "start_tof = 5.0 # days\n",
    "end_tof = 30.0 # days\n",
    "grid_size = 2.0 # days\n",
    "tof_list = np.arange(start_tof, end_tof + grid_size, grid_size)\n",
    "########## END: define the TOF options ##########\n",
    "\n",
    "for id1 in id_start:\n",
    "\n",
    "    for t1 in t1_list:\n",
    "\n",
    "        for id2 in id_tar:\n",
    "\n",
    "            if id1 != id2:\n",
    "\n",
    "                for tof in tof_list:\n",
    "\n",
    "                    t2 = t1 + tof\n",
    "                    tof_secs = tof * 86400.0\n",
    "\n",
    "                    cart1 = ephemeris.eph_satellites( t1 * 86400, id1 )\n",
    "                    cart2 = ephemeris.eph_satellites( t2 * 86400, id2 )\n",
    "                    vv1g = cart1[3:]\n",
    "\n",
    "                    # maybe first do an approximate DV computation, and then use the MRPLP\n",
    "                    paramsAnalytical = AnalyticDVApproxJ2.approx_DV_parameters( cart1[0:3], cart1[3:],\n",
    "                                                                                cart2[0:3], cart2[3:],\n",
    "                                                                                t1, t2,\n",
    "                                                                                mu, Re, J2)\n",
    "                    delta_v = AnalyticDVApproxJ2.approx_DV(paramsAnalytical)\n",
    "\n",
    "                    if delta_v <= dv_tol_an:\n",
    "\n",
    "                        # set the parameters for the MRPLP solver\n",
    "                        order = 7\n",
    "                        parameters = MRPLPsolver.mrplp_J2_analytic_parameters(cart1[0:3], cart2[0:3], tof_secs, vv1g, mu, Re, J2,\n",
    "                                                                            order, tol=1.0e-6, cont=0.0, dcontMin=0.1, \n",
    "                                                                            scl=1.0e-3, itermax=150 )\n",
    "                        \n",
    "                        # solve the MRPLP\n",
    "                        output = MRPLPsolver.mrplp_J2_analytic(parameters)\n",
    "                        \n",
    "                        # compute the DV\n",
    "                        dvv1 = output.vv1Sol - cart1[3:]\n",
    "                        dvv2 = cart2[3:] - output.vv2Sol\n",
    "                        dv1 = np.linalg.norm( dvv1 )\n",
    "                        dv2 = np.linalg.norm( dvv2 )\n",
    "                        dvtot = dv1 + dv2\n",
    "\n",
    "                        # print(f\"(ID1, t1)=({id1, t1})--> ID2=({id2,t2}), tof: {tof} days, DV: {delta_v} m/s - approx. DV\")\n",
    "                        if np.isnan(dvtot):\n",
    "                            \"\"\" print(f\"(ID1, t1)=({id1, t1})--> ID2=({id2,t2}), tof: {tof} days, NO SOLUTION - NaN\") \"\"\"\n",
    "                        else:\n",
    "                            if dvtot < dv_tol:\n",
    "                                print(f\"(ID1, t1)=({id1, t1})--> ID2=({id2,t2}), tof: {tof} days, DV: {dvtot} m/s\")\n",
    "                            else:\n",
    "                                \"\"\" print(f\"(ID1, t1)=({id1, t1})--> ID2=({id2,t2}), tof: {tof} days, NO SOLUTION\") \"\"\"\n",
    "                    else:\n",
    "                        \"\"\" print(f\"(ID1, t1)=({id1, t1})--> ID2=({id2,t2}), tof: {tof} days, NO SOLUTION - approx. DV: {delta_v} m/s\") \"\"\"\n"
   ]
  },
  {
   "cell_type": "code",
   "execution_count": null,
   "metadata": {},
   "outputs": [],
   "source": [
    "# analytic computation of DV\n",
    "from functions.analytic_approx_dv_j2 import AnalyticDVApproxJ2\n",
    "import numpy as np\n",
    "\n",
    "mue = 398600.4418e9  # [m^3/s^2]\n",
    "Re = 6378137  # [m]\n",
    "J2 = 1.08262668e-3\n",
    "\n",
    "id1 = '0'\n",
    "id2 = '302'\n",
    "t1 = 8487.0\n",
    "t2  = t1 + 10.0\n",
    "\n",
    "cart1 = ephemeris.eph_satellites( t1 * 86400, id1 )\n",
    "cart2 = ephemeris.eph_satellites( t2 * 86400, id2 )\n",
    "\n",
    "# Initialize parameters\n",
    "parameters = AnalyticDVApproxJ2.approx_DV_parameters(\n",
    "    rr1=cart1[0:3],\n",
    "    vv1=cart1[3:],\n",
    "    rr2=cart2[0:3],\n",
    "    vv2=cart2[3:],\n",
    "    t1=t1,\n",
    "    t2=t2,\n",
    "    mu=mue,\n",
    "    rE=Re,\n",
    "    J2=J2\n",
    ")\n",
    "\n",
    "delta_v = AnalyticDVApproxJ2.approx_DV(parameters)\n",
    "delta_v"
   ]
  }
 ],
 "metadata": {
  "kernelspec": {
   "display_name": "Python 3",
   "language": "python",
   "name": "python3"
  },
  "language_info": {
   "codemirror_mode": {
    "name": "ipython",
    "version": 3
   },
   "file_extension": ".py",
   "mimetype": "text/x-python",
   "name": "python",
   "nbconvert_exporter": "python",
   "pygments_lexer": "ipython3",
   "version": "3.10.11"
  }
 },
 "nbformat": 4,
 "nbformat_minor": 2
}
