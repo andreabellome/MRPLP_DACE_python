{
 "cells": [
  {
   "cell_type": "code",
   "execution_count": 12,
   "metadata": {},
   "outputs": [
    {
     "name": "stdout",
     "output_type": "stream",
     "text": [
      "Custom database loaded.\n"
     ]
    }
   ],
   "source": [
    "from functions.satellites_ephemeris import SatelliteEphemeris\n",
    "\n",
    "filename = 'functions/ephemerides/OneWeb_Sat_Data.xlsx'\n",
    "ephemeris = SatelliteEphemeris(filename=filename)\n",
    "ephemeris.load_data()\n",
    "debris_data = ephemeris.get_debris()"
   ]
  },
  {
   "cell_type": "code",
   "execution_count": 13,
   "metadata": {},
   "outputs": [],
   "source": [
    "t1 = 8487.72551337956\n",
    "id1 = '0'\n",
    "\n",
    "t2 = 8492.72551337956\n",
    "id2 = '1'\n",
    "\n",
    "cart1 = ephemeris.eph_satellites( t1 * 86400, id1 )\n",
    "cart2 = ephemeris.eph_satellites( t2 * 86400, id2 )"
   ]
  },
  {
   "cell_type": "code",
   "execution_count": 14,
   "metadata": {},
   "outputs": [
    {
     "name": "stdout",
     "output_type": "stream",
     "text": [
      "-------------------------------------------------------\n",
      "                 OUTPUT SUMMARY\n",
      "-------------------------------------------------------\n",
      "Order of the expansion  : 7\n",
      "Success                 : True\n",
      "Elapsed time            : 0.28823065757751465 seconds\n",
      "Final pos. error (norm) : 2.1105781332667353e-06 m\n",
      "-------------------------------------------------------\n",
      "Delta_v1                : 22.71146522768374 m/s\n",
      "Delta_v2                : 21.014510169245128 m/s\n",
      "Delta_vtot              : 43.72597539692887 m/s\n",
      "-------------------------------------------------------\n"
     ]
    }
   ],
   "source": [
    "from functions.MRPLP_J2_analytic import MultiRevolutionPerturbedLambertSolver\n",
    "from functions.expansion_perturbed_lambert import ExpansionPerturbedLambert\n",
    "import numpy as np\n",
    "\n",
    "rr1=cart1[0:3]\n",
    "vv1=cart1[3:]\n",
    "rr2=cart2[0:3]\n",
    "vv2=cart2[3:]\n",
    "vv1g = vv1\n",
    "\n",
    "tof = ( t2 - t1 ) * 86400\n",
    "\n",
    "mu = 398600.4418e9  # [m^3/s^2]\n",
    "Re = 6378137  # [m]\n",
    "J2 = 1.08262668e-3\n",
    "\n",
    "MRPLPsolver = MultiRevolutionPerturbedLambertSolver() # MRPLP solver\n",
    "EXPpertLamb = ExpansionPerturbedLambert() # Expansion of perturbed Lambert\n",
    "\n",
    "# set the parameters for the MRPLP solver\n",
    "order = 7\n",
    "parameters = MRPLPsolver.mrplp_J2_analytic_parameters(rr1, rr2, tof, vv1g, mu, Re, J2,\n",
    "                                            order, tol=1.0e-6, cont=0.0, dcontMin=0.1, scl=1.0e-3, itermax=200 )\n",
    "\n",
    "# solve the MRPLP\n",
    "output = MRPLPsolver.mrplp_J2_analytic(parameters)\n",
    "\n",
    "# extract the solution\n",
    "vv1Sol = output.vv1Sol\n",
    "vv2Sol = output.vv2Sol\n",
    "rr2DA = output.rr2DA\n",
    "\n",
    "# compute the DV\n",
    "dvv1 = vv1Sol - vv1\n",
    "dvv2 = vv2 - vv2Sol\n",
    "dv1 = np.linalg.norm( dvv1 )\n",
    "dv2 = np.linalg.norm( dvv2 )\n",
    "dvtot = dv1 + dv2\n",
    "\n",
    "# print the output\n",
    "print(f\"-------------------------------------------------------\")\n",
    "print(f\"                 OUTPUT SUMMARY\")\n",
    "print(f\"-------------------------------------------------------\")\n",
    "print(f\"Order of the expansion  : {order}\")\n",
    "print(f\"Success                 : {output.success}\")\n",
    "print(f\"Elapsed time            : {output.elapsed_time} seconds\")\n",
    "print(f\"Final pos. error (norm) : {np.linalg.norm( output.rr2DA - rr2 )} m\")\n",
    "print(f\"-------------------------------------------------------\")\n",
    "print(f\"Delta_v1                : {dv1} m/s\")\n",
    "print(f\"Delta_v2                : {dv2} m/s\")\n",
    "print(f\"Delta_vtot              : {dvtot} m/s\")\n",
    "print(f\"-------------------------------------------------------\")\n",
    "\n",
    "# propagate and obtain the STM\n",
    "states, vecttof, STM = (\n",
    "    MultiRevolutionPerturbedLambertSolver.propagatePerturbedKeplerSTM(\n",
    "        rr1, vv1Sol, tof, 1, parameters\n",
    "    )\n",
    ")"
   ]
  },
  {
   "cell_type": "code",
   "execution_count": 15,
   "metadata": {},
   "outputs": [
    {
     "data": {
      "text/plain": [
       "1.8433295507436913"
      ]
     },
     "execution_count": 15,
     "metadata": {},
     "output_type": "execute_result"
    }
   ],
   "source": [
    "from functions.analytic_approx_dv_j2 import AnalyticDVApproxJ2\n",
    "import numpy as np\n",
    "\n",
    "mue = 398600.4418e9  # [m^3/s^2]\n",
    "Re = 6378137  # [m]\n",
    "J2 = 1.08262668e-3\n",
    "\n",
    "# Initialize parameters\n",
    "parameters = AnalyticDVApproxJ2.approx_DV_parameters(\n",
    "    rr1=cart1[0:3],\n",
    "    vv1=cart1[3:],\n",
    "    rr2=cart2[0:3],\n",
    "    vv2=cart2[3:],\n",
    "    t1=t1,\n",
    "    t2=t2,\n",
    "    mu=mue,\n",
    "    rE=Re,\n",
    "    J2=J2\n",
    ")\n",
    "\n",
    "delta_v = AnalyticDVApproxJ2.approx_DV(parameters)\n",
    "delta_v"
   ]
  }
 ],
 "metadata": {
  "kernelspec": {
   "display_name": "Python 3",
   "language": "python",
   "name": "python3"
  },
  "language_info": {
   "codemirror_mode": {
    "name": "ipython",
    "version": 3
   },
   "file_extension": ".py",
   "mimetype": "text/x-python",
   "name": "python",
   "nbconvert_exporter": "python",
   "pygments_lexer": "ipython3",
   "version": "3.10.11"
  }
 },
 "nbformat": 4,
 "nbformat_minor": 2
}
